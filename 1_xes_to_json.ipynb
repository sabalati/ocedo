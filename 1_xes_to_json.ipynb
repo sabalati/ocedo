{
 "cells": [
  {
   "cell_type": "code",
   "execution_count": 14,
   "id": "6bfda6d7",
   "metadata": {},
   "outputs": [],
   "source": [
    "import json\n",
    "import xml.etree.ElementTree as ET\n",
    "import hashlib\n",
    "from collections import OrderedDict # added for ordered dict"
   ]
  },
  {
   "cell_type": "code",
   "execution_count": 15,
   "id": "ba8b7958",
   "metadata": {},
   "outputs": [],
   "source": [
    "INPUT_FILENAME = \"input/2013_small.xes\" # CHANGE HERE\n",
    "OUTPUT_FILENAME = INPUT_FILENAME.replace(\".xes\", \".json\")\n",
    "# optional user-provided classifier\n",
    "# keys separated by whitespace, e.g. \"concept:name lifecycle:transition\"\n",
    "CLASSIFIER = None"
   ]
  },
  {
   "cell_type": "code",
   "execution_count": 16,
   "id": "e75c494d-0880-4855-a56c-2b32fb9d2d8d",
   "metadata": {},
   "outputs": [],
   "source": [
    "# Read the file content and compute its hash\n",
    "with open(INPUT_FILENAME) as f:\n",
    "    log_string = \"\".join(f.readlines())\n",
    "log_hash = hash(log_string)\n",
    "del log_string"
   ]
  },
  {
   "cell_type": "code",
   "execution_count": 17,
   "id": "d2a0c922",
   "metadata": {},
   "outputs": [],
   "source": [
    "events = []\n",
    "objects = []\n",
    "event_object = []\n",
    "object_object = []"
   ]
  },
  {
   "cell_type": "code",
   "execution_count": 18,
   "id": "d15a6d81",
   "metadata": {},
   "outputs": [],
   "source": [
    "existing_objects = {}\n",
    "#existing_events = {}"
   ]
  },
  {
   "cell_type": "code",
   "execution_count": 19,
   "id": "78620658",
   "metadata": {},
   "outputs": [],
   "source": [
    "tree = ET.parse(INPUT_FILENAME)\n",
    "root = tree.getroot()\n",
    "#TODO: check  in classifier if there is only concept name or lifecycle transition as well"
   ]
  },
  {
   "cell_type": "code",
   "execution_count": 20,
   "id": "772952d1-7c5e-440f-8f1a-4179297f0328",
   "metadata": {},
   "outputs": [
    {
     "data": {
      "text/plain": [
       "'concept:name lifecycle:transition'"
      ]
     },
     "execution_count": 20,
     "metadata": {},
     "output_type": "execute_result"
    }
   ],
   "source": [
    "root.findall('.//{http://www.xes-standard.org/}classifier')[0].get('keys')"
   ]
  },
  {
   "cell_type": "code",
   "execution_count": 21,
   "id": "269d9def-2ef3-4497-a762-04ded4857044",
   "metadata": {},
   "outputs": [],
   "source": [
    "# get the first classifier\n",
    "classifiers = root.findall('.//{http://www.xes-standard.org/}classifier')\n",
    "if CLASSIFIER:\n",
    "    # give the user the opportunity to specify classifier\n",
    "    classifier = CLASSIFIER\n",
    "elif classifiers:\n",
    "    # or use the first classifier in the log\n",
    "    classifier = classifiers[0].get('keys')   \n",
    "else:\n",
    "    # or fall back to concept:name and lifecycle:transition if no other information is provided\n",
    "    classifier = \"concept:name lifecycle:transition\"\n",
    "#classifier = CLASSIFIER if CLASSIFIER is not None else classifiers[0].get('keys')\n",
    "classifier = tuple(classifier.split(\" \"))"
   ]
  },
  {
   "cell_type": "code",
   "execution_count": 22,
   "id": "3733721f",
   "metadata": {},
   "outputs": [],
   "source": [
    "event_id_counter = 1\n",
    "object_id_counter = 1\n",
    "case_id_counter = 1"
   ]
  },
  {
   "cell_type": "code",
   "execution_count": 23,
   "id": "bbff3d4b",
   "metadata": {},
   "outputs": [],
   "source": [
    "for case in root.findall('.//{http://www.xes-standard.org/}trace'):\n",
    "    case_attributes = [child for child in case.iter() if child.tag != '{http://www.xes-standard.org/}event']\n",
    "    xes_case_id = None\n",
    "    # check if case ID is present in the XES file\n",
    "    for attr in case_attributes:\n",
    "        if attr.get('key') == 'concept:name':\n",
    "            xes_case_id = attr.get('value')\n",
    "            break\n",
    "    # create a case object REGARDLESS of whether the case has an ID\n",
    "        # case ID depending on position, XES case ID (if present) and log hash\n",
    "    case_id = f\"case_{case_id_counter}_{xes_case_id}_{log_hash}\" if xes_case_id else f\"case_{case_id_counter}_{log_hash}\"\n",
    "    case_id_counter += 1\n",
    "    # append \"o_\" to the beginning of hashed case ID to prevent hashes starting from a number\n",
    "    # \"o_\" stands for object\n",
    "    # TODO: should we replace it with \"c_\" for case?\n",
    "    case_id_hashed = f\"o_{hashlib.sha1(case_id.encode()).hexdigest()}\"\n",
    "    objects.append({\"id\": case_id_hashed, \"object_type\": \"case\", \"attributes\": [{\"object_attribute_name\": \"concept:name\", \"object_attribute_value\": xes_case_id}]})\n",
    "    \n",
    "    for attr in case_attributes:\n",
    "        if attr.get('key') != 'concept:name':\n",
    "            # add object\n",
    "            object_type = attr.get('key')\n",
    "            object_value = attr.get('value')\n",
    "            object_key = f\"{object_type}_{object_value}_{log_hash}\"\n",
    "             #generate a SHA-1 hash of the object key\n",
    "            if object_key not in existing_objects:\n",
    "                # append \"o_\" to the beginning of hashed object ID to prevent hashes starting from a number\n",
    "                object_hash = f\"o_{hashlib.sha1(object_key.encode()).hexdigest()}\"\n",
    "                existing_objects[object_key] = {\"id\": object_hash, \"count\": 1}\n",
    "                objects.append({\"id\": object_hash, \"object_type\": object_type, \"attributes\": [{\"object_attribute_name\": object_type, \"object_attribute_value\": object_value}]})\n",
    "            else:\n",
    "                existing_objects[object_key][\"count\"] += 1\n",
    "\n",
    "            object_id_hashed = existing_objects[object_key][\"id\"]\n",
    "            object_object.append({\"from\": case_id_hashed, \"to\": object_id_hashed, \"object_relation_type\": \"case_object\"})\n",
    "       \n",
    "    for event in [child for child in case.iter() if child.tag == '{http://www.xes-standard.org/}event']:\n",
    "        # identify event by its position\n",
    "        event_id = f\"event_{event_id_counter}_{log_hash}\"\n",
    "        event_id_counter += 1\n",
    "        # append \"e_\" to the beginning of hashed event ID to prevent hashes starting from a number\n",
    "        event_id_hashed = f\"e_{hashlib.sha1(event_id.encode()).hexdigest()}\"\n",
    "        event_time_element = event.find('.//{http://www.xes-standard.org/}date')\n",
    "        event_time_iso8601 = None\n",
    "\n",
    "        if event_time_element is not None:\n",
    "            event_time = event_time_element.attrib.get('value')\n",
    "            # event time to ISO 8601 format \n",
    "            if event_time:\n",
    "                event_time_iso8601 = event_time.replace(\"T\", \" \").replace(\"Z\", \"\")\n",
    "\n",
    "        # take all attributes from classifier\n",
    "        event_classifier = OrderedDict.fromkeys(classifier)\n",
    "\n",
    "        event_attributes = [attr for attr in event.iter()]\n",
    "        for attr in event_attributes:\n",
    "            # fill in event_classifier with values present in the event\n",
    "            if attr.get('key') in event_classifier:\n",
    "                event_classifier[attr.get('key')] = attr.get('value')\n",
    "            # if attr.get('key') == 'concept:name':\n",
    "            #     concept_name = attr.get('value')\n",
    "            # elif attr.get('key') == 'lifecycle:transition':\n",
    "            #     lifecycle_transition = attr.get('value')\n",
    "        \n",
    "        # order of attribute values is preserved for all events\n",
    "        # skip None values, i.e. attributes not present in the event\n",
    "        event_type = \" \".join([v for v in event_classifier.values() if v is not None])\n",
    "        \n",
    "        # add the event\n",
    "        # only add the attributes that are present\n",
    "        events.append({\"id\": event_id_hashed, \"time\": event_time_iso8601, \"event_type\": event_type, \n",
    "                       \"attributes\":[{\"event_attribute_name\": k, \"event_attribute_value\": v} for k,v in event_classifier.items() if v is not None]})\n",
    "            \n",
    "        # add event_object relation to the case\n",
    "        event_object.append({\"eventID\": event_id_hashed, \"objectID\": case_id_hashed, \"qualifier\": \"case_event\"})\n",
    "\n",
    "            \n",
    "        # loop to Iterate through attributes of the event\n",
    "        for attr in event_attributes:\n",
    "            # only attributes that are not in the classifier and not timestamp are converted to objects\n",
    "            # timestamp is also not an attribute\n",
    "            #if attr.get('key') != 'concept:name' and attr.get('key') != 'lifecycle:transition' and attr.get('key') != 'time:timestamp':\n",
    "            if attr.get('key') not in event_classifier and attr.get('key') != 'time:timestamp':\n",
    "                # object already exists in objects list? if yes then take its id as an object_id\n",
    "                object_type = attr.get('key')\n",
    "                object_value = attr.get('value')\n",
    "                object_key = f\"{object_type}_{object_value}_{log_hash}\"\n",
    "                 #generate a SHA-1 hash of the object key\n",
    "                if object_key not in existing_objects:\n",
    "                    object_hash = f\"o_{hashlib.sha1(object_key.encode()).hexdigest()}\"\n",
    "                    existing_objects[object_key] = {\"id\": object_hash, \"count\": 1}\n",
    "                    objects.append({\"id\": object_hash, \"object_type\": object_type, \"attributes\": [{\"object_attribute_name\": object_type, \"object_attribute_value\": object_value}]})\n",
    "                else:\n",
    "                    existing_objects[object_key][\"count\"] += 1\n",
    "\n",
    "                object_id_hashed = existing_objects[object_key][\"id\"]\n",
    "\n",
    "                event_object.append({\"eventID\": event_id_hashed, \"objectID\": object_id_hashed, \"qualifier\": \"event_object\"})"
   ]
  },
  {
   "cell_type": "code",
   "execution_count": 24,
   "id": "258170ac",
   "metadata": {},
   "outputs": [],
   "source": [
    "if len(object_object) < 1:\n",
    "    # if this part is empty, add an empty entry for demonstrative purposes\n",
    "    object_object.append({\"from\": \"\", \"to\": \"\", \"object_relation_type\": \"\"})"
   ]
  },
  {
   "cell_type": "code",
   "execution_count": 25,
   "id": "6943bdaf",
   "metadata": {},
   "outputs": [],
   "source": [
    "output_data = {\n",
    "    \"events\": events,\n",
    "    \"objects\": objects,\n",
    "    \"event_object\": event_object,\n",
    "    \"object_object\": object_object\n",
    "}"
   ]
  },
  {
   "cell_type": "code",
   "execution_count": 26,
   "id": "cf102863",
   "metadata": {},
   "outputs": [
    {
     "name": "stdout",
     "output_type": "stream",
     "text": [
      "Output saved to input/2013_N_small.json\n"
     ]
    }
   ],
   "source": [
    "with open(OUTPUT_FILENAME, 'w') as json_file:\n",
    "    json.dump(output_data, json_file, indent=4)\n",
    "\n",
    "print(f\"Output saved to {OUTPUT_FILENAME}\")"
   ]
  },
  {
   "cell_type": "code",
   "execution_count": null,
   "id": "3c5d7b84-b16b-4e0a-a885-ae790ca2cdf5",
   "metadata": {},
   "outputs": [],
   "source": []
  },
  {
   "cell_type": "code",
   "execution_count": null,
   "id": "e3fdaf99-1358-4268-b8ab-7f9c933f8d89",
   "metadata": {},
   "outputs": [],
   "source": []
  }
 ],
 "metadata": {
  "kernelspec": {
   "display_name": "Python 3 (ipykernel)",
   "language": "python",
   "name": "python3"
  },
  "language_info": {
   "codemirror_mode": {
    "name": "ipython",
    "version": 3
   },
   "file_extension": ".py",
   "mimetype": "text/x-python",
   "name": "python",
   "nbconvert_exporter": "python",
   "pygments_lexer": "ipython3",
   "version": "3.10.1"
  }
 },
 "nbformat": 4,
 "nbformat_minor": 5
}
