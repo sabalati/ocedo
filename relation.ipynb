{
  "cells": [
    {
      "cell_type": "code",
      "execution_count": 1,
      "metadata": {
        "id": "VstHJRgpPjsF"
      },
      "outputs": [
        {
          "name": "stdout",
          "output_type": "stream",
          "text": [
            "File not found: bpic13/13small.xes\n"
          ]
        },
        {
          "ename": "FileNotFoundError",
          "evalue": "[Errno 2] No such file or directory: 'bpic13/13small_relation.ttl'",
          "output_type": "error",
          "traceback": [
            "\u001b[0;31m---------------------------------------------------------------------------\u001b[0m",
            "\u001b[0;31mFileNotFoundError\u001b[0m                         Traceback (most recent call last)",
            "Cell \u001b[0;32mIn[1], line 97\u001b[0m\n\u001b[1;32m     94\u001b[0m     \u001b[38;5;28;01melse\u001b[39;00m:\n\u001b[1;32m     95\u001b[0m         \u001b[38;5;28mprint\u001b[39m(\u001b[38;5;124mf\u001b[39m\u001b[38;5;124m\"\u001b[39m\u001b[38;5;124mFile not found: \u001b[39m\u001b[38;5;132;01m{\u001b[39;00minput_filename\u001b[38;5;132;01m}\u001b[39;00m\u001b[38;5;124m\"\u001b[39m)\n\u001b[0;32m---> 97\u001b[0m \u001b[43mfind_common_triples\u001b[49m\u001b[43m(\u001b[49m\u001b[43moutput_filenames\u001b[49m\u001b[43m,\u001b[49m\u001b[43m \u001b[49m\u001b[43mcommon_output_filename\u001b[49m\u001b[43m)\u001b[49m\n",
            "Cell \u001b[0;32mIn[1], line 67\u001b[0m, in \u001b[0;36mfind_common_triples\u001b[0;34m(output_filenames, common_output_filename)\u001b[0m\n\u001b[1;32m     64\u001b[0m \u001b[38;5;28;01mif\u001b[39;00m \u001b[38;5;129;01mnot\u001b[39;00m output_filenames:\n\u001b[1;32m     65\u001b[0m     \u001b[38;5;28;01mreturn\u001b[39;00m\n\u001b[0;32m---> 67\u001b[0m common_triples \u001b[38;5;241m=\u001b[39m \u001b[43mextract_triples_from_ttl\u001b[49m\u001b[43m(\u001b[49m\u001b[43moutput_filenames\u001b[49m\u001b[43m[\u001b[49m\u001b[38;5;241;43m0\u001b[39;49m\u001b[43m]\u001b[49m\u001b[43m)\u001b[49m\n\u001b[1;32m     69\u001b[0m \u001b[38;5;28;01mfor\u001b[39;00m filename \u001b[38;5;129;01min\u001b[39;00m output_filenames[\u001b[38;5;241m1\u001b[39m:]:\n\u001b[1;32m     70\u001b[0m     current_triples \u001b[38;5;241m=\u001b[39m extract_triples_from_ttl(filename)\n",
            "Cell \u001b[0;32mIn[1], line 54\u001b[0m, in \u001b[0;36mextract_triples_from_ttl\u001b[0;34m(filename)\u001b[0m\n\u001b[1;32m     52\u001b[0m \u001b[38;5;28;01mdef\u001b[39;00m \u001b[38;5;21mextract_triples_from_ttl\u001b[39m(filename):\n\u001b[1;32m     53\u001b[0m     triples \u001b[38;5;241m=\u001b[39m \u001b[38;5;28mset\u001b[39m()\n\u001b[0;32m---> 54\u001b[0m     \u001b[38;5;28;01mwith\u001b[39;00m \u001b[38;5;28;43mopen\u001b[39;49m\u001b[43m(\u001b[49m\u001b[43mfilename\u001b[49m\u001b[43m,\u001b[49m\u001b[43m \u001b[49m\u001b[38;5;124;43m'\u001b[39;49m\u001b[38;5;124;43mr\u001b[39;49m\u001b[38;5;124;43m'\u001b[39;49m\u001b[43m)\u001b[49m \u001b[38;5;28;01mas\u001b[39;00m f:\n\u001b[1;32m     55\u001b[0m         \u001b[38;5;28;01mfor\u001b[39;00m line \u001b[38;5;129;01min\u001b[39;00m f:\n\u001b[1;32m     56\u001b[0m             \u001b[38;5;28;01mif\u001b[39;00m line\u001b[38;5;241m.\u001b[39mstartswith(\u001b[38;5;124m'\u001b[39m\u001b[38;5;124m<\u001b[39m\u001b[38;5;124m'\u001b[39m) \u001b[38;5;129;01mand\u001b[39;00m \u001b[38;5;124m'\u001b[39m\u001b[38;5;124m ex:\u001b[39m\u001b[38;5;124m'\u001b[39m \u001b[38;5;129;01min\u001b[39;00m line:\n",
            "File \u001b[0;32m~/Git/students/saba_ocedo/.venv/lib/python3.10/site-packages/IPython/core/interactiveshell.py:324\u001b[0m, in \u001b[0;36m_modified_open\u001b[0;34m(file, *args, **kwargs)\u001b[0m\n\u001b[1;32m    317\u001b[0m \u001b[38;5;28;01mif\u001b[39;00m file \u001b[38;5;129;01min\u001b[39;00m {\u001b[38;5;241m0\u001b[39m, \u001b[38;5;241m1\u001b[39m, \u001b[38;5;241m2\u001b[39m}:\n\u001b[1;32m    318\u001b[0m     \u001b[38;5;28;01mraise\u001b[39;00m \u001b[38;5;167;01mValueError\u001b[39;00m(\n\u001b[1;32m    319\u001b[0m         \u001b[38;5;124mf\u001b[39m\u001b[38;5;124m\"\u001b[39m\u001b[38;5;124mIPython won\u001b[39m\u001b[38;5;124m'\u001b[39m\u001b[38;5;124mt let you open fd=\u001b[39m\u001b[38;5;132;01m{\u001b[39;00mfile\u001b[38;5;132;01m}\u001b[39;00m\u001b[38;5;124m by default \u001b[39m\u001b[38;5;124m\"\u001b[39m\n\u001b[1;32m    320\u001b[0m         \u001b[38;5;124m\"\u001b[39m\u001b[38;5;124mas it is likely to crash IPython. If you know what you are doing, \u001b[39m\u001b[38;5;124m\"\u001b[39m\n\u001b[1;32m    321\u001b[0m         \u001b[38;5;124m\"\u001b[39m\u001b[38;5;124myou can use builtins\u001b[39m\u001b[38;5;124m'\u001b[39m\u001b[38;5;124m open.\u001b[39m\u001b[38;5;124m\"\u001b[39m\n\u001b[1;32m    322\u001b[0m     )\n\u001b[0;32m--> 324\u001b[0m \u001b[38;5;28;01mreturn\u001b[39;00m \u001b[43mio_open\u001b[49m\u001b[43m(\u001b[49m\u001b[43mfile\u001b[49m\u001b[43m,\u001b[49m\u001b[43m \u001b[49m\u001b[38;5;241;43m*\u001b[39;49m\u001b[43margs\u001b[49m\u001b[43m,\u001b[49m\u001b[43m \u001b[49m\u001b[38;5;241;43m*\u001b[39;49m\u001b[38;5;241;43m*\u001b[39;49m\u001b[43mkwargs\u001b[49m\u001b[43m)\u001b[49m\n",
            "\u001b[0;31mFileNotFoundError\u001b[0m: [Errno 2] No such file or directory: 'bpic13/13small_relation.ttl'"
          ]
        }
      ],
      "source": [
        "import os\n",
        "import xml.etree.ElementTree as ET\n",
        "\n",
        "def create_ttl_relations(input_filename, output_filename):\n",
        "    # Define the namespace and other prefixes\n",
        "    prefixes = {\n",
        "        'ex': 'http://example.org/',\n",
        "    }\n",
        "\n",
        "    base_uri = prefixes['ex']\n",
        "\n",
        "    # Parse the XML file\n",
        "    tree = ET.parse(input_filename)\n",
        "    root = tree.getroot()\n",
        "\n",
        "    unique_keys = set()\n",
        "\n",
        "    # Iterate over traces in the XML\n",
        "    for trace in root.findall('.//{http://www.xes-standard.org/}trace'):\n",
        "        for attr in trace:\n",
        "            key = attr.attrib.get('key')\n",
        "            if key:\n",
        "                unique_keys.add(key)\n",
        "\n",
        "        for event in trace.findall('./{http://www.xes-standard.org/}event'):\n",
        "            for attr in event:\n",
        "                key = attr.attrib.get('key')\n",
        "                if key:\n",
        "                    unique_keys.add(key)\n",
        "\n",
        "    # Generate all possible pairs (relationships) between unique keys\n",
        "    triples = set()\n",
        "    unique_keys = list(unique_keys)  # Convert to a list to iterate over pairs\n",
        "\n",
        "    for i, subject_key in enumerate(unique_keys):\n",
        "        for j, object_key in enumerate(unique_keys):\n",
        "            if i != j:  # Avoid self-relation like (key, key)\n",
        "                subject = f'{base_uri}{subject_key}'\n",
        "                obj = f'{base_uri}{object_key}'\n",
        "                triple = (subject, 'ex:subject_object', obj)\n",
        "                triples.add(triple)\n",
        "\n",
        "    # Write triples to TTL file\n",
        "    with open(output_filename, 'w') as f:\n",
        "        # Write prefix declaration\n",
        "        f.write('@prefix ex: <http://example.org/> .\\n\\n')\n",
        "\n",
        "        for subject, predicate, obj in sorted(triples):\n",
        "            relation = f'<{subject}> {predicate} <{obj}> .'\n",
        "            f.write(f'{relation}\\n')\n",
        "\n",
        "def extract_triples_from_ttl(filename):\n",
        "    triples = set()\n",
        "    with open(filename, 'r') as f:\n",
        "        for line in f:\n",
        "            if line.startswith('<') and ' ex:' in line:\n",
        "                parts = line.strip().split(' ')\n",
        "                if len(parts) == 4:  # Adjusted to ensure triple structure\n",
        "                    subject, predicate, obj, _ = parts\n",
        "                    triples.add((subject, predicate, obj))\n",
        "    return triples\n",
        "\n",
        "def find_common_triples(output_filenames, common_output_filename):\n",
        "    if not output_filenames:\n",
        "        return\n",
        "\n",
        "    common_triples = extract_triples_from_ttl(output_filenames[0])\n",
        "\n",
        "    for filename in output_filenames[1:]:\n",
        "        current_triples = extract_triples_from_ttl(filename)\n",
        "        common_triples &= current_triples\n",
        "\n",
        "    with open(common_output_filename, 'w') as f:\n",
        "        # Write prefix declaration\n",
        "        f.write('@prefix ex: <http://example.org/> .\\n\\n')\n",
        "\n",
        "        # Sort the triples before writing\n",
        "        sorted_triples = sorted(common_triples)\n",
        "\n",
        "        for triple in sorted_triples:\n",
        "            f.write(f'{triple[0]} {triple[1]} {triple[2]} .\\n')\n",
        "\n",
        "if __name__ == \"__main__\":\n",
        "    input_filenames = [\"13small.xes\"]\n",
        "    output_filenames = [f\"{filename.split('.')[0]}_relation.ttl\" for filename in input_filenames]\n",
        "    common_output_filename = \"bpic13/common_relationsBPIC13.ttl\"\n",
        "\n",
        "    if len(input_filenames) != len(output_filenames):\n",
        "        raise ValueError(\"The number of input filenames must match the number of output filenames.\")\n",
        "\n",
        "    for input_filename, output_filename in zip(input_filenames, output_filenames):\n",
        "        if os.path.exists(input_filename):\n",
        "            create_ttl_relations(input_filename, output_filename)\n",
        "        else:\n",
        "            print(f\"File not found: {input_filename}\")\n",
        "\n",
        "    find_common_triples(output_filenames, common_output_filename)\n"
      ]
    }
  ],
  "metadata": {
    "colab": {
      "provenance": []
    },
    "kernelspec": {
      "display_name": "Python 3",
      "name": "python3"
    },
    "language_info": {
      "codemirror_mode": {
        "name": "ipython",
        "version": 3
      },
      "file_extension": ".py",
      "mimetype": "text/x-python",
      "name": "python",
      "nbconvert_exporter": "python",
      "pygments_lexer": "ipython3",
      "version": "3.10.1"
    }
  },
  "nbformat": 4,
  "nbformat_minor": 0
}
