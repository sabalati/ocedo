{
  "cells": [
    {
      "cell_type": "code",
      "execution_count": 65,
      "metadata": {
        "id": "S09WJVC3N3Ri"
      },
      "outputs": [
        {
          "name": "stderr",
          "output_type": "stream",
          "text": [
            "INFO | 2024-08-07 13:00:44,826 | Parallelization is not supported for darwin when running as a library. If you need to speed up your data integration pipeline, please run through the command line.\n"
          ]
        },
        {
          "name": "stdout",
          "output_type": "stream",
          "text": [
            "JSON file updated successfully!\n"
          ]
        },
        {
          "name": "stderr",
          "output_type": "stream",
          "text": [
            "INFO | 2024-08-07 13:00:45,176 | 13 mapping rules retrieved.\n",
            "INFO | 2024-08-07 13:00:45,184 | Mapping partition with 11 groups generated.\n",
            "INFO | 2024-08-07 13:00:45,185 | Maximum number of rules within mapping group: 2.\n",
            "INFO | 2024-08-07 13:00:45,185 | Mappings processed in 0.358 seconds.\n",
            "INFO | 2024-08-07 13:01:44,351 | Number of triples generated in total: 2304168.\n"
          ]
        },
        {
          "data": {
            "text/plain": [
              "<Graph identifier=Nb5337193941e4adcb3ae132681befc72 (<class 'rdflib.graph.Graph'>)>"
            ]
          },
          "execution_count": 65,
          "metadata": {},
          "output_type": "execute_result"
        }
      ],
      "source": [
        "import rdflib\n",
        "import morph_kgc\n",
        "import json\n",
        "\n",
        "input_file = '13full.json'\n",
        "output_file = 'updated_'+input_file\n",
        "\n",
        "domain_properties = {}\n",
        "\n",
        "# Load the JSON data from a file\n",
        "with open(input_file, 'r') as file:\n",
        "    data = json.load(file)\n",
        "\n",
        "# Iterate over each event in the JSON data\n",
        "for event in data['events']:\n",
        "    event_id = event['id']\n",
        "    # Iterate over each attribute in the event\n",
        "    for attribute in event['attributes']:\n",
        "        attribute['id'] = event_id\n",
        "        name = attribute['event_attribute_name']\n",
        "        attribute['event_attribute_name'] = attribute['event_attribute_name'].replace(':', '_')\n",
        "        domain_properties[name] = attribute['event_attribute_name']\n",
        "\n",
        "# Iterate over each object in the JSON data\n",
        "for object in data['objects']:\n",
        "    object_id = object['id']\n",
        "    # Iterate over each attribute in the event\n",
        "    for attribute in object['attributes']:\n",
        "        attribute['id'] = object_id\n",
        "\n",
        "data['objects'] = [x for x in data['objects'] if x['object_type'] not in ( \"lifecycle:transition\", \"time:timestamp\", \"concept:name\" )]\n",
        "\n",
        "# Save the modified JSON data back to the file\n",
        "with open(output_file, 'w') as file:\n",
        "    json.dump(data, file, indent=4)\n",
        "\n",
        "print(\"JSON file updated successfully!\")\n",
        "\n",
        "    \n",
        "\n",
        "\n",
        "config2 = \"\"\"\n",
        "            [DataSource1]\n",
        "            mappings: rml_mapping_v2.ttl\n",
        "            file_path: \"\"\"+output_file+\"\"\"\n",
        "        \"\"\"\n",
        "graph2 = morph_kgc.materialize(config2)\n",
        "\n",
        "ocedo = Namespace('https://w3id.org/ocedo/core#')\n",
        "ocedr = Namespace('https://w3id.org/ocedo/resource/')\n",
        "\n",
        "graph2.bind('ocedo', ocedo)\n",
        "graph2.bind('ocedr', ocedr)\n",
        "\n",
        "# for key, value in domain_properties.items():\n",
        "#     s = rdflib.URIRef(ocedo+value)\n",
        "#     p1 = rdflib.RDFS.label\n",
        "#     o1 = rdflib.Literal(key)\n",
        "#     p2 = rdflib.RDF.type\n",
        "#     o2 = rdflib.OWL.DatatypeProperty\n",
        "#     graph2.add((s, p1, o1))\n",
        "#     graph2.add((s, p2, o2))\n",
        "\n",
        "\n",
        "graph2.serialize(destination=output_file+\".ttl\", format='turtle')\n"
      ]
    }
  ],
  "metadata": {
    "colab": {
      "provenance": []
    },
    "kernelspec": {
      "display_name": "Python 3",
      "name": "python3"
    },
    "language_info": {
      "codemirror_mode": {
        "name": "ipython",
        "version": 3
      },
      "file_extension": ".py",
      "mimetype": "text/x-python",
      "name": "python",
      "nbconvert_exporter": "python",
      "pygments_lexer": "ipython3",
      "version": "3.10.1"
    }
  },
  "nbformat": 4,
  "nbformat_minor": 0
}
