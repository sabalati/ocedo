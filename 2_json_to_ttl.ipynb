{
  "cells": [
    {
      "cell_type": "code",
      "execution_count": 5,
      "metadata": {
        "id": "S09WJVC3N3Ri"
      },
      "outputs": [
        {
          "name": "stderr",
          "output_type": "stream",
          "text": [
            "INFO | 2024-08-06 19:50:58,489 | Parallelization is not supported for darwin when running as a library. If you need to speed up your data integration pipeline, please run through the command line.\n",
            "INFO | 2024-08-06 19:50:58,875 | 15 mapping rules retrieved.\n",
            "INFO | 2024-08-06 19:50:58,883 | Mapping partition with 15 groups generated.\n",
            "INFO | 2024-08-06 19:50:58,884 | Maximum number of rules within mapping group: 1.\n",
            "INFO | 2024-08-06 19:50:58,884 | Mappings processed in 0.392 seconds.\n",
            "INFO | 2024-08-06 19:50:59,026 | Number of triples generated in total: 3144.\n"
          ]
        },
        {
          "data": {
            "text/plain": [
              "<Graph identifier=N6652cd733a43411b8a8b8e2ecccff839 (<class 'rdflib.graph.Graph'>)>"
            ]
          },
          "execution_count": 5,
          "metadata": {},
          "output_type": "execute_result"
        }
      ],
      "source": [
        "from rdflib import URIRef, Graph, Namespace\n",
        "import morph_kgc\n",
        "\n",
        "\n",
        "config2 = \"\"\"\n",
        "            [DataSource1]\n",
        "            mappings: CORE.ttl\n",
        "            file_path: 13small.json\n",
        "        \"\"\"\n",
        "graph2 = morph_kgc.materialize(config2)\n",
        "\n",
        "\n",
        "ocedCore = Namespace('http://example.org/oce/data#')\n",
        "ocedOB = Namespace('http://example.com/object/')\n",
        "ocedEV = Namespace('http://example.com/event/')\n",
        "ocedOB1 = Namespace('http://example.org/object#')\n",
        "ocedEV1 = Namespace('http://example.org/event#')\n",
        "\n",
        "\n",
        "graph2.bind('ocedCore', ocedCore)\n",
        "graph2.bind('ocedOB', ocedOB)\n",
        "graph2.bind('ocedEV', ocedEV)\n",
        "graph2.bind('ocedOB1', ocedOB1)\n",
        "graph2.bind('ocedEV1', ocedEV1)\n",
        "\n",
        "graph2.serialize(destination=\"13small.ttl\", format='turtle')\n"
      ]
    }
  ],
  "metadata": {
    "colab": {
      "provenance": []
    },
    "kernelspec": {
      "display_name": "Python 3",
      "name": "python3"
    },
    "language_info": {
      "codemirror_mode": {
        "name": "ipython",
        "version": 3
      },
      "file_extension": ".py",
      "mimetype": "text/x-python",
      "name": "python",
      "nbconvert_exporter": "python",
      "pygments_lexer": "ipython3",
      "version": "3.10.1"
    }
  },
  "nbformat": 4,
  "nbformat_minor": 0
}
