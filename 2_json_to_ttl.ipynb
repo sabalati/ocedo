{
  "cells": [
    {
      "cell_type": "code",
      "execution_count": 4,
      "metadata": {
        "id": "S09WJVC3N3Ri"
      },
      "outputs": [],
      "source": [
        "import morph_kgc\n",
        "import json\n",
        "import rdflib\n",
        "\n",
        "INPUT_FILENAME = 'input/2013_small.json'\n",
        "MOD_INPUT_FILENAME = INPUT_FILENAME.replace(\".json\", \"-mod.json\")\n",
        "OUTPUT_FILENAME = INPUT_FILENAME.replace(\".json\", \".ttl\")\n"
      ]
    },
    {
      "cell_type": "code",
      "execution_count": 5,
      "metadata": {},
      "outputs": [
        {
          "name": "stdout",
          "output_type": "stream",
          "text": [
            "JSON file updated successfully!\n"
          ]
        }
      ],
      "source": [
        "\n",
        "# Load the JSON data from a file\n",
        "with open(INPUT_FILENAME, 'r') as file:\n",
        "    data = json.load(file)\n",
        "\n",
        "# Iterate over each event in the JSON data\n",
        "domain_properties = {}\n",
        "for event in data['events']:\n",
        "    event_id = event['id']\n",
        "    # Iterate over each attribute in the event\n",
        "    for attribute in event['attributes']:\n",
        "        attribute['id'] = event_id\n",
        "        name = attribute['event_attribute_name']\n",
        "        attribute['event_attribute_name'] = attribute['event_attribute_name'].replace(':', '_')\n",
        "        domain_properties[name] = attribute['event_attribute_name']\n",
        "\n",
        "# Iterate over each object in the JSON data\n",
        "for object in data['objects']:\n",
        "    object_id = object['id']\n",
        "    # Iterate over each attribute in the event\n",
        "    for attribute in object['attributes']:\n",
        "        attribute['id'] = object_id\n",
        "\n",
        "data['objects'] = [x for x in data['objects'] if x['object_type'] not in ( \"lifecycle:transition\", \"time:timestamp\", \"concept:name\" )]\n",
        "\n",
        "# Save the modified JSON data back to the file\n",
        "with open(MOD_INPUT_FILENAME, 'w') as file:\n",
        "    json.dump(data, file, indent=4)\n",
        "\n",
        "print(\"JSON file updated successfully!\")\n",
        "\n",
        "    \n"
      ]
    },
    {
      "cell_type": "code",
      "execution_count": 6,
      "metadata": {},
      "outputs": [
        {
          "name": "stderr",
          "output_type": "stream",
          "text": [
            "INFO | 2024-08-20 10:26:09,592 | Parallelization is not supported for darwin when running as a library. If you need to speed up your data integration pipeline, please run through the command line.\n",
            "INFO | 2024-08-20 10:26:09,957 | 15 mapping rules retrieved.\n",
            "INFO | 2024-08-20 10:26:09,965 | Mapping partition with 15 groups generated.\n",
            "INFO | 2024-08-20 10:26:09,965 | Maximum number of rules within mapping group: 1.\n",
            "INFO | 2024-08-20 10:26:09,966 | Mappings processed in 0.371 seconds.\n",
            "INFO | 2024-08-20 10:26:10,074 | Number of triples generated in total: 2654.\n"
          ]
        },
        {
          "ename": "NameError",
          "evalue": "name 'Namespace' is not defined",
          "output_type": "error",
          "traceback": [
            "\u001b[0;31m---------------------------------------------------------------------------\u001b[0m",
            "\u001b[0;31mNameError\u001b[0m                                 Traceback (most recent call last)",
            "Cell \u001b[0;32mIn[6], line 8\u001b[0m\n\u001b[1;32m      1\u001b[0m config \u001b[38;5;241m=\u001b[39m \u001b[38;5;124m\"\"\"\u001b[39m\n\u001b[1;32m      2\u001b[0m \u001b[38;5;124m            [DataSource1]\u001b[39m\n\u001b[1;32m      3\u001b[0m \u001b[38;5;124m            mappings: files/rml_mapping.ttl\u001b[39m\n\u001b[1;32m      4\u001b[0m \u001b[38;5;124m            file_path: \u001b[39m\u001b[38;5;124m\"\"\"\u001b[39m\u001b[38;5;241m+\u001b[39mMOD_INPUT_FILENAME\u001b[38;5;241m+\u001b[39m\u001b[38;5;124m\"\"\"\u001b[39m\n\u001b[1;32m      5\u001b[0m \u001b[38;5;124m        \u001b[39m\u001b[38;5;124m\"\"\"\u001b[39m\n\u001b[1;32m      6\u001b[0m graph \u001b[38;5;241m=\u001b[39m morph_kgc\u001b[38;5;241m.\u001b[39mmaterialize(config)\n\u001b[0;32m----> 8\u001b[0m ocedo \u001b[38;5;241m=\u001b[39m \u001b[43mNamespace\u001b[49m(\u001b[38;5;124m'\u001b[39m\u001b[38;5;124mhttps://w3id.org/ocedo/core#\u001b[39m\u001b[38;5;124m'\u001b[39m)\n\u001b[1;32m      9\u001b[0m ocedr \u001b[38;5;241m=\u001b[39m Namespace(\u001b[38;5;124m'\u001b[39m\u001b[38;5;124mhttps://w3id.org/ocedo/resource/\u001b[39m\u001b[38;5;124m'\u001b[39m)\n\u001b[1;32m     11\u001b[0m graph\u001b[38;5;241m.\u001b[39mbind(\u001b[38;5;124m'\u001b[39m\u001b[38;5;124mocedo\u001b[39m\u001b[38;5;124m'\u001b[39m, ocedo)\n",
            "\u001b[0;31mNameError\u001b[0m: name 'Namespace' is not defined"
          ]
        }
      ],
      "source": [
        "config = \"\"\"\n",
        "            [DataSource1]\n",
        "            mappings: files/rml_mapping.ttl\n",
        "            file_path: \"\"\"+MOD_INPUT_FILENAME+\"\"\"\n",
        "        \"\"\"\n",
        "graph = morph_kgc.materialize(config)\n",
        "\n",
        "ocedo = rdflib.Namespace('https://w3id.org/ocedo/core#')\n",
        "ocedr = rdflib.Namespace('https://w3id.org/ocedo/resource/')\n",
        "\n",
        "graph.bind('ocedo', ocedo)\n",
        "graph.bind('ocedr', ocedr)\n",
        "\n",
        "graph.serialize(destination=OUTPUT_FILENAME, format='turtle')\n"
      ]
    }
  ],
  "metadata": {
    "colab": {
      "provenance": []
    },
    "kernelspec": {
      "display_name": "Python 3",
      "name": "python3"
    },
    "language_info": {
      "codemirror_mode": {
        "name": "ipython",
        "version": 3
      },
      "file_extension": ".py",
      "mimetype": "text/x-python",
      "name": "python",
      "nbconvert_exporter": "python",
      "pygments_lexer": "ipython3",
      "version": "3.10.1"
    }
  },
  "nbformat": 4,
  "nbformat_minor": 0
}
