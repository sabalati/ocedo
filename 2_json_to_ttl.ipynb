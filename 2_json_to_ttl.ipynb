{
 "cells": [
  {
   "cell_type": "code",
   "execution_count": 1,
   "metadata": {
    "id": "S09WJVC3N3Ri"
   },
   "outputs": [],
   "source": [
    "import morph_kgc\n",
    "import json\n",
    "import rdflib\n",
    "\n",
    "INPUT_FILENAME = 'input/BPIC15_5.json'\n",
    "MOD_INPUT_FILENAME = INPUT_FILENAME.replace(\".json\", \"-mod.json\")\n",
    "OUTPUT_FILENAME = INPUT_FILENAME.replace(\".json\", \".ttl\")\n"
   ]
  },
  {
   "cell_type": "code",
   "execution_count": 2,
   "metadata": {},
   "outputs": [
    {
     "name": "stdout",
     "output_type": "stream",
     "text": [
      "JSON file updated successfully!\n"
     ]
    }
   ],
   "source": [
    "\n",
    "# Load the JSON data from a file\n",
    "with open(INPUT_FILENAME, 'r') as file:\n",
    "    data = json.load(file)\n",
    "\n",
    "# Iterate over each event in the JSON data\n",
    "domain_properties = {}\n",
    "for event in data['events']:\n",
    "    event_id = event['id']\n",
    "    # Iterate over each attribute in the event\n",
    "    for attribute in event['attributes']:\n",
    "        attribute['id'] = event_id\n",
    "        name = attribute['value_of']\n",
    "        attribute['value_of'] = attribute['value_of'].replace(':', '_')\n",
    "        domain_properties[name] = attribute['value_of']\n",
    "\n",
    "# Iterate over each object in the JSON data\n",
    "for object in data['objects']:\n",
    "    object_id = object['id']\n",
    "    # Iterate over each attribute in the event\n",
    "    for attribute in object['attributes']:\n",
    "        attribute['id'] = object_id\n",
    "\n",
    "data['objects'] = [x for x in data['objects'] if x['instance_of_O'] not in ( \"lifecycle:transition\", \"time:timestamp\", \"concept:name\" )]\n",
    "\n",
    "# Save the modified JSON data back to the file\n",
    "with open(MOD_INPUT_FILENAME, 'w') as file:\n",
    "    json.dump(data, file, indent=4)\n",
    "\n",
    "print(\"JSON file updated successfully!\")\n",
    "\n",
    "    \n"
   ]
  },
  {
   "cell_type": "code",
   "execution_count": 3,
   "metadata": {},
   "outputs": [
    {
     "name": "stderr",
     "output_type": "stream",
     "text": [
      "INFO | 2024-11-15 12:58:16,132 | Parallelization is not supported for win32 when running as a library. If you need to speed up your data integration pipeline, please run through the command line.\n",
      "INFO | 2024-11-15 12:58:17,204 | 21 mapping rules retrieved.\n",
      "INFO | 2024-11-15 12:58:17,223 | Mapping partition with 21 groups generated.\n",
      "INFO | 2024-11-15 12:58:17,225 | Maximum number of rules within mapping group: 1.\n",
      "INFO | 2024-11-15 12:58:17,225 | Mappings processed in 1.082 seconds.\n",
      "INFO | 2024-11-15 13:00:43,956 | Number of triples generated in total: 3736923.\n"
     ]
    },
    {
     "data": {
      "text/plain": [
       "<Graph identifier=Ndfe9e6baad9347d1a4fbf94fe25e5cb7 (<class 'rdflib.graph.Graph'>)>"
      ]
     },
     "execution_count": 3,
     "metadata": {},
     "output_type": "execute_result"
    }
   ],
   "source": [
    "config = \"\"\"\n",
    "            [DataSource1]\n",
    "            mappings: files/rml_Me.ttl\n",
    "            file_path: \"\"\"+MOD_INPUT_FILENAME+\"\"\"\n",
    "        \"\"\"\n",
    "graph = morph_kgc.materialize(config)\n",
    "\n",
    "ocedo = rdflib.Namespace('https://w3id.org/ocedo/core#')\n",
    "ocedr = rdflib.Namespace('https://w3id.org/ocedo/resource/')\n",
    "\n",
    "graph.bind('ocedo', ocedo)\n",
    "graph.bind('ocedr', ocedr)\n",
    "\n",
    "graph.serialize(destination=OUTPUT_FILENAME, format='turtle')\n"
   ]
  },
  {
   "cell_type": "code",
   "execution_count": null,
   "metadata": {},
   "outputs": [],
   "source": []
  },
  {
   "cell_type": "code",
   "execution_count": null,
   "metadata": {},
   "outputs": [],
   "source": []
  },
  {
   "cell_type": "code",
   "execution_count": null,
   "metadata": {},
   "outputs": [],
   "source": []
  }
 ],
 "metadata": {
  "colab": {
   "provenance": []
  },
  "kernelspec": {
   "display_name": "Python 3 (ipykernel)",
   "language": "python",
   "name": "python3"
  },
  "language_info": {
   "codemirror_mode": {
    "name": "ipython",
    "version": 3
   },
   "file_extension": ".py",
   "mimetype": "text/x-python",
   "name": "python",
   "nbconvert_exporter": "python",
   "pygments_lexer": "ipython3",
   "version": "3.12.7"
  }
 },
 "nbformat": 4,
 "nbformat_minor": 4
}
