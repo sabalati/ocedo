{
  "cells": [
    {
      "cell_type": "code",
      "execution_count": 69,
      "metadata": {
        "id": "S09WJVC3N3Ri"
      },
      "outputs": [],
      "source": [
        "import morph_kgc\n",
        "import json\n",
        "import rdflib\n",
        "\n",
        "INPUT_FILENAME = 'input/2013_small.json'\n",
        "MOD_INPUT_FILENAME = INPUT_FILENAME.replace(\".json\", \"-mod.json\")\n",
        "OUTPUT_FILENAME = INPUT_FILENAME.replace(\".json\", \".ttl\")\n"
      ]
    },
    {
      "cell_type": "code",
      "execution_count": 70,
      "metadata": {},
      "outputs": [
        {
          "name": "stdout",
          "output_type": "stream",
          "text": [
            "JSON file updated successfully!\n"
          ]
        }
      ],
      "source": [
        "\n",
        "# Load the JSON data from a file\n",
        "with open(INPUT_FILENAME, 'r') as file:\n",
        "    data = json.load(file)\n",
        "\n",
        "# Iterate over each event in the JSON data\n",
        "domain_properties = {}\n",
        "for event in data['events']:\n",
        "    event_id = event['id']\n",
        "    # Iterate over each attribute in the event\n",
        "    for attribute in event['attributes']:\n",
        "        attribute['id'] = event_id\n",
        "        name = attribute['event_attribute_name']\n",
        "        attribute['event_attribute_name'] = attribute['event_attribute_name'].replace(':', '_')\n",
        "        domain_properties[name] = attribute['event_attribute_name']\n",
        "\n",
        "# Iterate over each object in the JSON data\n",
        "for object in data['objects']:\n",
        "    object_id = object['id']\n",
        "    # Iterate over each attribute in the event\n",
        "    for attribute in object['attributes']:\n",
        "        attribute['id'] = object_id\n",
        "\n",
        "data['objects'] = [x for x in data['objects'] if x['object_type'] not in ( \"lifecycle:transition\", \"time:timestamp\", \"concept:name\" )]\n",
        "\n",
        "# Save the modified JSON data back to the file\n",
        "with open(MOD_INPUT_FILENAME, 'w') as file:\n",
        "    json.dump(data, file, indent=4)\n",
        "\n",
        "print(\"JSON file updated successfully!\")\n",
        "\n",
        "    \n"
      ]
    },
    {
      "cell_type": "code",
      "execution_count": 71,
      "metadata": {},
      "outputs": [
        {
          "name": "stderr",
          "output_type": "stream",
          "text": [
            "INFO | 2024-08-20 12:06:02,642 | Parallelization is not supported for darwin when running as a library. If you need to speed up your data integration pipeline, please run through the command line.\n",
            "INFO | 2024-08-20 12:06:03,032 | 20 mapping rules retrieved.\n",
            "INFO | 2024-08-20 12:06:03,040 | Mapping partition with 20 groups generated.\n",
            "INFO | 2024-08-20 12:06:03,041 | Maximum number of rules within mapping group: 1.\n",
            "INFO | 2024-08-20 12:06:03,041 | Mappings processed in 0.397 seconds.\n",
            "INFO | 2024-08-20 12:06:03,195 | Number of triples generated in total: 3296.\n"
          ]
        },
        {
          "data": {
            "text/plain": [
              "<Graph identifier=Nbfbc5e9e27f24cc994a34cccd8e2afb4 (<class 'rdflib.graph.Graph'>)>"
            ]
          },
          "execution_count": 71,
          "metadata": {},
          "output_type": "execute_result"
        }
      ],
      "source": [
        "config = \"\"\"\n",
        "            [DataSource1]\n",
        "            mappings: files/rml_mapping.ttl\n",
        "            file_path: \"\"\"+MOD_INPUT_FILENAME+\"\"\"\n",
        "        \"\"\"\n",
        "graph = morph_kgc.materialize(config)\n",
        "\n",
        "ocedo = rdflib.Namespace('https://w3id.org/ocedo/core#')\n",
        "ocedr = rdflib.Namespace('https://w3id.org/ocedo/resource/')\n",
        "\n",
        "graph.bind('ocedo', ocedo)\n",
        "graph.bind('ocedr', ocedr)\n",
        "\n",
        "graph.serialize(destination=OUTPUT_FILENAME, format='turtle')\n"
      ]
    }
  ],
  "metadata": {
    "colab": {
      "provenance": []
    },
    "kernelspec": {
      "display_name": "Python 3",
      "name": "python3"
    },
    "language_info": {
      "codemirror_mode": {
        "name": "ipython",
        "version": 3
      },
      "file_extension": ".py",
      "mimetype": "text/x-python",
      "name": "python",
      "nbconvert_exporter": "python",
      "pygments_lexer": "ipython3",
      "version": "3.10.1"
    }
  },
  "nbformat": 4,
  "nbformat_minor": 0
}
