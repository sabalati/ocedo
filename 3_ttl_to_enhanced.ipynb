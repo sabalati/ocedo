{
  "cells": [
    {
      "cell_type": "code",
      "execution_count": 39,
      "metadata": {
        "id": "S09WJVC3N3Ri"
      },
      "outputs": [],
      "source": [
        "from SPARQLWrapper import SPARQLWrapper, JSON, CONSTRUCT, TURTLE\n",
        "from rdflib.plugins.sparql import prepareQuery\n",
        "\n",
        "import rdflib\n",
        "import pandas as pd\n",
        "\n",
        "# since rdflib is not working properly with SPARQL construct, we use an alternative way using GraphDB for queries\n",
        "# ... to use, please do the following steps: \n",
        "# \n",
        "# 1) change the flag below to True\n",
        "# 2) prepare a SPARQL endpoint on the server and replace the sparql_endpoint name below\n",
        "# 3) load both OCED ontology and resulted RDF file (in this case oced_ontology.ttl and 2013_small.ttl) to the prepared SPARQL endpoint\n",
        "\n",
        "use_endpoint = False\n",
        "sparql_endpoint = \"http://localhost:7200/repositories/ocedo-small\"\n",
        "\n",
        "OCEDO_FIlENAME = 'files/oced_ontology.ttl'\n",
        "INPUT_FILENAME = 'input/2013_small.ttl'\n",
        "OUTPUT_FILENAME = INPUT_FILENAME.replace(\".ttl\", \"-integrated.ttl\")\n",
        "OBJECT_OBJECT_MAP_FILENAME = 'files/2013_object-object_mapping.csv' \n",
        "EVENT_OBJECT_MAP_FILENAME = 'files/2013_event-object_mapping.csv'"
      ]
    },
    {
      "cell_type": "code",
      "execution_count": 40,
      "metadata": {},
      "outputs": [],
      "source": [
        "# prepare rdflib graph\n",
        "constructed_graph = rdflib.Graph()\n",
        "\n",
        "ocedo = rdflib.Namespace('https://w3id.org/ocedo/core#')\n",
        "ocedd = rdflib.Namespace('https://w3id.org/ocedo/domain#')\n",
        "ocedr = rdflib.Namespace('https://w3id.org/ocedo/resource/')\n",
        "constructed_graph.bind('ocedo', ocedo)\n",
        "constructed_graph.bind('ocedd', ocedd)\n",
        "constructed_graph.bind('ocedr', ocedr)\n",
        "\n",
        "# load OCED ontology\n",
        "constructed_graph.parse(OCEDO_FIlENAME, format=\"turtle\")\n",
        "\n",
        "# load input graph\n",
        "input_graph = rdflib.Graph()\n",
        "input_graph.parse(INPUT_FILENAME, format=\"turtle\")\n",
        "constructed_graph += input_graph\n"
      ]
    },
    {
      "cell_type": "code",
      "execution_count": 41,
      "metadata": {},
      "outputs": [],
      "source": [
        "# prepare construct query for event_object enhancement\n",
        "# -- parameters needed: $object_type, $ocedd_class, $ocedd_relation\n",
        "event_object_cq = \"\"\"\n",
        "prefix ocedo: <https://w3id.org/ocedo/core#>\n",
        "prefix ocedd: <https://w3id.org/ocedo/domain#>\n",
        "prefix ocedr: <https://w3id.org/ocedo/resource/>\n",
        "\n",
        "CONSTRUCT {\n",
        "    ?object a $ocedd_class .\n",
        "    ?event $ocedd_relation ?object .\n",
        "} \n",
        "WHERE {\n",
        "    ?eo a ocedo:EventObject ;\n",
        "    \tocedo:eo_event ?event ;\n",
        "    \tocedo:eo_object ?object ;\n",
        "    .\n",
        "    ?object ocedo:object_type \"$object_type\" .\n",
        "}\n",
        "\"\"\"\n",
        "\n",
        "# prepare construct query for object_object enhancement\n",
        "# -- parameters needed: $object1_class, $object2_class, $object1_type, $object2_type, $ocedd_relation\n",
        "object_object_cq = \"\"\"\n",
        "prefix ocedo: <https://w3id.org/ocedo/core#>\n",
        "prefix ocedd: <https://w3id.org/ocedo/domain#>\n",
        "prefix ocedr: <https://w3id.org/ocedo/resource/>\n",
        "\n",
        "CONSTRUCT {\n",
        "    ?object1 a $object1_class .\n",
        "    ?object2 a $object2_class .\n",
        "    ?object1 $ocedd_relation ?object2 .\n",
        "} \n",
        "WHERE {\n",
        "    ?eo1 a ocedo:EventObject ;\n",
        "    \tocedo:eo_event ?event ;\n",
        "    \tocedo:eo_object ?object1 ;\n",
        "    .\n",
        "    ?eo2 a ocedo:EventObject ;\n",
        "    \tocedo:eo_event ?event ;\n",
        "    \tocedo:eo_object ?object2 ;\n",
        "    .\n",
        "    ?object1 ocedo:object_type \"$object1_type\" .\n",
        "    ?object2 ocedo:object_type \"$object2_type\" .\n",
        "}\n",
        "\"\"\""
      ]
    },
    {
      "cell_type": "code",
      "execution_count": 42,
      "metadata": {},
      "outputs": [],
      "source": [
        "\n",
        "def build_event_object_cq(object_type, ocedd_class, ocedd_relation):\n",
        "    cq = event_object_cq\n",
        "    cq = cq.replace(\"$object_type\", object_type)\n",
        "    cq = cq.replace(\"$ocedd_class\", ocedd_class)\n",
        "    cq = cq.replace(\"$ocedd_relation\", ocedd_relation)\n",
        "    return cq\n",
        "\n",
        "def build_object_object_cq(object1_class, object2_class, object1_type, object2_type, ocedd_relation):\n",
        "    cq = object_object_cq\n",
        "    cq = cq.replace(\"$object1_class\", object1_class)\n",
        "    cq = cq.replace(\"$object2_class\", object2_class)\n",
        "    cq = cq.replace(\"$object1_type\", object1_type)\n",
        "    cq = cq.replace(\"$object2_type\", object2_type)\n",
        "    cq = cq.replace(\"$ocedd_relation\", ocedd_relation)\n",
        "    return cq\n",
        "\n",
        "def run_construct_query_endpoint(cq):\n",
        "    sparql = SPARQLWrapper(sparql_endpoint)\n",
        "    sparql.setQuery(cq)\n",
        "    sparql.setReturnFormat(TURTLE)\n",
        "    sparql.setMethod(CONSTRUCT)\n",
        "    results = sparql.queryAndConvert()\n",
        "\n",
        "    result_graph = rdflib.Graph()\n",
        "    result_graph.parse(data=results, format='ttl')\n",
        "    return result_graph\n",
        "\n",
        "def run_construct_query_rdflib(cq):\n",
        "    construct_query = prepareQuery(cq)\n",
        "    result_graph = constructed_graph.query(construct_query).graph\n",
        "\n",
        "    return result_graph\n"
      ]
    },
    {
      "cell_type": "code",
      "execution_count": 43,
      "metadata": {},
      "outputs": [],
      "source": [
        "temp_result = rdflib.Graph()\n",
        "\n",
        "df = pd.read_csv(EVENT_OBJECT_MAP_FILENAME)\n",
        "for index, row in df.iterrows():\n",
        "    o_type = row[\"object_type\"]\n",
        "    o_class = row[\"ocedd_class\"]\n",
        "    o_relation = row[\"ocedd_relation\"]\n",
        "    cq_string = build_event_object_cq(o_type, o_class, o_relation)\n",
        "    # print(cq_string)\n",
        "    if use_endpoint:\n",
        "        temp_result += run_construct_query_endpoint(cq_string)\n",
        "    else: \n",
        "        temp_result += run_construct_query_rdflib(cq_string)\n",
        "\n"
      ]
    },
    {
      "cell_type": "code",
      "execution_count": 44,
      "metadata": {},
      "outputs": [],
      "source": [
        "df = pd.read_csv(OBJECT_OBJECT_MAP_FILENAME)\n",
        "for index, row in df.iterrows():\n",
        "    object1_class = row[\"object1_class\"]\n",
        "    object2_class = row[\"object2_class\"]\n",
        "    object1_type = row[\"object1_type\"]\n",
        "    object2_type = row[\"object2_type\"]\n",
        "    ocedd_relation = row[\"ocedd_relation\"]\n",
        "    cq_string = build_object_object_cq(object1_class, object2_class, object1_type, object2_type, ocedd_relation)\n",
        "    # print(cq_string)\n",
        "    if use_endpoint:\n",
        "        temp_result += run_construct_query_endpoint(cq_string)\n",
        "    else:\n",
        "        temp_result += run_construct_query_rdflib(cq_string) # ==> not sure why, but it's really slow"
      ]
    },
    {
      "cell_type": "code",
      "execution_count": 45,
      "metadata": {},
      "outputs": [
        {
          "data": {
            "text/plain": [
              "<Graph identifier=Nb82a470c1ba64e83b0e5f355729bd158 (<class 'rdflib.graph.Graph'>)>"
            ]
          },
          "execution_count": 45,
          "metadata": {},
          "output_type": "execute_result"
        }
      ],
      "source": [
        "constructed_graph += temp_result\n",
        "constructed_graph.serialize(destination=OUTPUT_FILENAME, format='ttl')\n",
        "\n"
      ]
    }
  ],
  "metadata": {
    "colab": {
      "provenance": []
    },
    "kernelspec": {
      "display_name": "Python 3",
      "name": "python3"
    },
    "language_info": {
      "codemirror_mode": {
        "name": "ipython",
        "version": 3
      },
      "file_extension": ".py",
      "mimetype": "text/x-python",
      "name": "python",
      "nbconvert_exporter": "python",
      "pygments_lexer": "ipython3",
      "version": "3.10.1"
    }
  },
  "nbformat": 4,
  "nbformat_minor": 0
}
